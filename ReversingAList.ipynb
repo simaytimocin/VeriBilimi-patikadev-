{
 "cells": [
  {
   "cell_type": "code",
   "execution_count": 4,
   "id": "71296eeb",
   "metadata": {},
   "outputs": [
    {
     "name": "stdout",
     "output_type": "stream",
     "text": [
      "[[5, 6, 7], [3, 4], [1, 2]]\n"
     ]
    }
   ],
   "source": [
    "'''2- Verilen listenin içindeki elemanları tersine döndüren bir fonksiyon yazın. \n",
    "Eğer listenin içindeki elemanlar da liste içeriyorsa onların elemanlarını da tersine döndürün. Örnek olarak:\n",
    "\n",
    "input: [[1, 2], [3, 4], [5, 6, 7]]\n",
    "\n",
    "output: [[[7, 6, 5], [4, 3], [2, 1]] '''\n",
    "\n",
    "def Reverse(list):\n",
    "    list.reverse()\n",
    "    return list\n",
    "     \n",
    "list = [[1, 2], [3, 4], [5, 6, 7]]\n",
    "print(Reverse(list))"
   ]
  }
 ],
 "metadata": {
  "kernelspec": {
   "display_name": "Python 3",
   "language": "python",
   "name": "python3"
  },
  "language_info": {
   "codemirror_mode": {
    "name": "ipython",
    "version": 3
   },
   "file_extension": ".py",
   "mimetype": "text/x-python",
   "name": "python",
   "nbconvert_exporter": "python",
   "pygments_lexer": "ipython3",
   "version": "3.8.8"
  }
 },
 "nbformat": 4,
 "nbformat_minor": 5
}
