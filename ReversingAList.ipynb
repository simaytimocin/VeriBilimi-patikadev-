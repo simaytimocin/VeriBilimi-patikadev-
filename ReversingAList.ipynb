{
 "cells": [
  {
   "cell_type": "code",
   "execution_count": 1,
   "id": "bda8ad40",
   "metadata": {},
   "outputs": [
    {
     "name": "stdout",
     "output_type": "stream",
     "text": [
      "[[7, 6, 5], [4, 3], [2, 1]]\n"
     ]
    }
   ],
   "source": [
    "'''2- Verilen listenin içindeki elemanları tersine döndüren bir fonksiyon yazın.\n",
    "Eğer listenin içindeki elemanlar da liste içeriyorsa onların elemanlarını da tersine döndürün. Örnek olarak:\n",
    "\n",
    "input: [[1, 2], [3, 4], [5, 6, 7]]\n",
    "\n",
    "output: [[[7, 6, 5], [4, 3], [2, 1]]'''\n",
    "\n",
    "\n",
    "l = [[1, 2], [3, 4], [5, 6, 7]]\n",
    "def Reverse(l):\n",
    "    if isinstance(l, list):\n",
    "        return [Reverse(e) for e in l[::-1]]\n",
    "    else:\n",
    "        return l\n",
    "    \n",
    "print(Reverse(l))"
   ]
  }
 ],
 "metadata": {
  "kernelspec": {
   "display_name": "Python 3",
   "language": "python",
   "name": "python3"
  },
  "language_info": {
   "codemirror_mode": {
    "name": "ipython",
    "version": 3
   },
   "file_extension": ".py",
   "mimetype": "text/x-python",
   "name": "python",
   "nbconvert_exporter": "python",
   "pygments_lexer": "ipython3",
   "version": "3.8.8"
  }
 },
 "nbformat": 4,
 "nbformat_minor": 5
}
